{
 "cells": [
  {
   "cell_type": "markdown",
   "id": "2acf0720",
   "metadata": {},
   "source": [
    "# Buổi 13: Ôn tập & Luyện đề"
   ]
  },
  {
   "cell_type": "markdown",
   "id": "04cc7e6b",
   "metadata": {},
   "source": [
    "- Các CTDL trong Python\n",
    "+ Cơ bản: str, int, float, bool, list, dict\n",
    "+ Nâng cao: Tree, Graph, Stack, Queue, \n",
    "- Thuật toán tìm kiếm: \n",
    "+ Linear Search: Tìm kiếm tuần tự (không bỏ sót)\n",
    "+ Binary Search: Tìm kiếm nhị phân\n",
    "- Thuật toán sắp xếp\n",
    "+ Bubble: So sánh hai phần tử kề theo từng cặp => đảo phần tử nhỏ hơn lên trước => \n",
    "+ Merge: chia đôi đến hết => sx lại => gộp\n",
    "+ Insertion: Chọn mốc => ....\n",
    "+ Selection: Chọn một phần tử min => về đầu => tìm seconnd_min => đưa về thứ 2 ....\n",
    "+ Quick: \n",
    "+ Counting: Tìm giá trị max => khởi tạo list gồm max số 0 => đếm theo thứ tự xuất hiện => ghép thứ tự vào list gốc\n",
    "- Thuật toán tìm đường\n",
    "+ DFS: Tìm kiếm theo chiều sâu\n",
    "+ BFS: Tìm kiếm theo chiều rộng"
   ]
  },
  {
   "cell_type": "markdown",
   "id": "ff500bc3",
   "metadata": {},
   "source": [
    "Bài tập thực hành: \n",
    "Bài 1: Viết hàm linear_search(arr, target) tìm vị trí đầu tiên của target trong arr. Nếu không tìm thấy trả về -1"
   ]
  },
  {
   "cell_type": "code",
   "execution_count": 3,
   "id": "9b627049",
   "metadata": {},
   "outputs": [
    {
     "name": "stdout",
     "output_type": "stream",
     "text": [
      "4\n"
     ]
    }
   ],
   "source": [
    "def linear_search(arr, target):\n",
    "    for i in range(len(arr)):\n",
    "        if arr[i] == target:\n",
    "            return i\n",
    "    return -1\n",
    "    \n",
    "arr = [1, 2, 3, 4 ,5]\n",
    "print(linear_search(arr, 5))"
   ]
  },
  {
   "cell_type": "markdown",
   "id": "d80febab",
   "metadata": {},
   "source": [
    "Bài thực hành 2: Tìm số xuất hiện nhiều lần nhất\n",
    "Viết một hàm tìm số có tần suất xuất hiện cao nhất trong mảng\n"
   ]
  },
  {
   "cell_type": "code",
   "execution_count": null,
   "id": "83ce08f8",
   "metadata": {},
   "outputs": [
    {
     "name": "stdout",
     "output_type": "stream",
     "text": [
      "3\n"
     ]
    }
   ],
   "source": [
    "arr = [3, 1, 3, 2, 3, 2, 1]\n",
    "\n",
    "\n",
    "\n",
    "from collections import Counter\n",
    "def most_frequent(arr):\n",
    "    count = Counter(arr)\n",
    "    return max(count, key=count.get)\n",
    "\n",
    "print(most_frequent(arr))"
   ]
  },
  {
   "cell_type": "markdown",
   "id": "18b9343a",
   "metadata": {},
   "source": [
    "Bài tập thực hành 3: Kiểm tra mảng có phần tử đối xứng hay không\n",
    "\n",
    "Một phần tử x trong mảng được gọi là đối xứng nếu có một phần tử y khác mà x + y = 0. Hãy kiểm tra xem mảng có chứa ít nhất một cặp đối xứng hay không?.\n",
    "\n",
    "Input: [-3, 1, 2 ,3 , -1, 5]\n",
    "Output: 'YES'/ 'NO'"
   ]
  },
  {
   "cell_type": "code",
   "execution_count": null,
   "id": "1106f460",
   "metadata": {},
   "outputs": [],
   "source": [
    "def has_symmetric_pair(arr):\n",
    "    seen = set()\n",
    "    for num in arr:\n",
    "        if -num in arr:\n",
    "            return 'YES'\n",
    "        seen.add(num)\n",
    "    return 'NO'\n",
    "    "
   ]
  },
  {
   "cell_type": "markdown",
   "id": "2ffd2ac1",
   "metadata": {},
   "source": [
    "Bài thực hành số 4: Sắp xếp mảng theo số lần xuất hiện giảm dần\n",
    "Sắp xếp mảng sao cho phần tử xuất hiện nhiều lần nhất đứng trước.\n",
    "\n",
    "Input: [4, 3, 1, 2, 3, 4, 4, 2]\n",
    "Output: [4, 4, 4, 3, 3, 2, 2, 1]"
   ]
  },
  {
   "cell_type": "markdown",
   "id": "96fb0799",
   "metadata": {},
   "source": [
    "Bài thực hành 5: Xếp vớ \n",
    "Yêu cầu: Có một số vớ cần được xếp theo đôi. Cho một mảng các số nguyên thể hiện màu của từng chiếc vớ, hãy đếm số đôi vớ có hai chiếc cùng màu.\n",
    "\n",
    "VD: Cho n = 7 chiếc vớ với các màu colors = [1, 2, 1, 2, 1, 3, 2].\n",
    "Ta tìm được 1 đôi có màu 1 và một đôi có màu 2. Các chiếc vớ còn lại đều bị lẻ. Tổng cộng ta tìm được 2 đôi vớ.\n",
    "\n",
    "Input: n, [1, 2, 1, 2, 1, 3, 2]\n",
    "Output: 2"
   ]
  }
 ],
 "metadata": {
  "kernelspec": {
   "display_name": "base",
   "language": "python",
   "name": "python3"
  },
  "language_info": {
   "codemirror_mode": {
    "name": "ipython",
    "version": 3
   },
   "file_extension": ".py",
   "mimetype": "text/x-python",
   "name": "python",
   "nbconvert_exporter": "python",
   "pygments_lexer": "ipython3",
   "version": "3.12.7"
  }
 },
 "nbformat": 4,
 "nbformat_minor": 5
}
