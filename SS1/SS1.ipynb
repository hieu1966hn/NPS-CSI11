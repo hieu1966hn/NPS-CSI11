{
 "cells": [
  {
   "cell_type": "markdown",
   "metadata": {},
   "source": [
    "# 1. Các thành phần cơ bản của Python\n"
   ]
  },
  {
   "cell_type": "markdown",
   "metadata": {},
   "source": [
    "## 1.1. Hello World!"
   ]
  },
  {
   "cell_type": "code",
   "execution_count": 25,
   "metadata": {},
   "outputs": [
    {
     "name": "stdout",
     "output_type": "stream",
     "text": [
      "Hello World\n"
     ]
    }
   ],
   "source": [
    "print(\"Hello World\")"
   ]
  },
  {
   "cell_type": "markdown",
   "metadata": {},
   "source": [
    "## 1.2. Biến và Hằng số"
   ]
  },
  {
   "cell_type": "markdown",
   "metadata": {},
   "source": [
    "Trong Python, biến và hằng số được định nghĩa giống nhau"
   ]
  },
  {
   "cell_type": "code",
   "execution_count": 26,
   "metadata": {},
   "outputs": [
    {
     "name": "stdout",
     "output_type": "stream",
     "text": [
      "2\n",
      "3.1415\n"
     ]
    }
   ],
   "source": [
    "# biến\n",
    "number = 2\n",
    "print(number)\n",
    "\n",
    "# constant\n",
    "PI = 3.1415\n",
    "print(PI)\n"
   ]
  },
  {
   "cell_type": "markdown",
   "metadata": {},
   "source": [
    "## 1.3. Kiểu dữ liệu: \n",
    "\n",
    "Python có các kiểu dữ liệu cơ bản: int, float, string, list, dict, bool ..\n",
    "\n",
    "Xem kiểu dữ liệu của 1 biến: "
   ]
  },
  {
   "cell_type": "code",
   "execution_count": 27,
   "metadata": {},
   "outputs": [
    {
     "data": {
      "text/plain": [
       "str"
      ]
     },
     "execution_count": 27,
     "metadata": {},
     "output_type": "execute_result"
    }
   ],
   "source": [
    "var_string = \"Hi\"\n",
    "type(var_string)\n"
   ]
  },
  {
   "cell_type": "markdown",
   "metadata": {},
   "source": [
    "## 1.4. Phép toán\n"
   ]
  },
  {
   "cell_type": "markdown",
   "metadata": {},
   "source": [
    "Phép toán toán học "
   ]
  },
  {
   "cell_type": "code",
   "execution_count": 28,
   "metadata": {},
   "outputs": [
    {
     "name": "stdout",
     "output_type": "stream",
     "text": [
      "19.3\n",
      "6.7\n",
      "81.89999999999999\n",
      "2.0634920634920637\n",
      "2.0\n",
      "0.40000000000000036\n",
      "10419409.804138675\n",
      "Hàm có sẵn\n",
      "13\n",
      "6.3\n",
      "123\n"
     ]
    }
   ],
   "source": [
    "num1 = 13\n",
    "num2 = 6.3\n",
    "num3 = 6\n",
    "\n",
    "print(num1 + num2)\n",
    "print(num1 - num2)\n",
    "print(num1 * num2)\n",
    "print(num1 / num2)\n",
    "print(num1 // num2) # Chia lấy phần nguyên\n",
    "print(num1 % num2) # Chia lấy phần Dư\n",
    "print(num1 ** num2) # Số mũ\n",
    "\n",
    "\n",
    "## Hàm có sẵn\n",
    "print(\"Hàm có sẵn\")\n",
    "print(max(num1, num2))\n",
    "print(min(num1, num2))\n",
    "print(abs(-123))"
   ]
  },
  {
   "cell_type": "markdown",
   "metadata": {},
   "source": [
    "Phép toán so sánh\n"
   ]
  },
  {
   "cell_type": "code",
   "execution_count": 29,
   "metadata": {},
   "outputs": [
    {
     "name": "stdout",
     "output_type": "stream",
     "text": [
      "True\n",
      "False\n",
      "False\n",
      "True\n",
      "True\n",
      "False\n"
     ]
    }
   ],
   "source": [
    "print(num1 > num2)\n",
    "print(num1 < num2)\n",
    "print(num1 == num2)\n",
    "print(num1 != num2)\n",
    "print(num1 >= num2)\n",
    "print(num1 <= num2)"
   ]
  },
  {
   "cell_type": "markdown",
   "metadata": {},
   "source": [
    "Phép toán Logic"
   ]
  },
  {
   "cell_type": "code",
   "execution_count": 30,
   "metadata": {},
   "outputs": [
    {
     "name": "stdout",
     "output_type": "stream",
     "text": [
      "False\n",
      "True\n",
      "False\n"
     ]
    }
   ],
   "source": [
    "bool1 = 3 < 5 # True\n",
    "bool2 = 3 > 5 #  False\n",
    "\n",
    "print(bool1 and bool2)\n",
    "print(bool1 or bool2)\n",
    "print(not bool1)\n"
   ]
  },
  {
   "cell_type": "markdown",
   "metadata": {},
   "source": [
    "## 1.4. Input và Output"
   ]
  },
  {
   "cell_type": "markdown",
   "metadata": {},
   "source": [
    "Nhập và xuất string: "
   ]
  },
  {
   "cell_type": "code",
   "execution_count": 31,
   "metadata": {},
   "outputs": [
    {
     "name": "stdout",
     "output_type": "stream",
     "text": [
      "\n"
     ]
    }
   ],
   "source": [
    "var_input = input()\n",
    "\n",
    "print(var_input)"
   ]
  },
  {
   "cell_type": "markdown",
   "metadata": {},
   "source": [
    "Nhập và xuất số nguyên"
   ]
  },
  {
   "cell_type": "code",
   "execution_count": 32,
   "metadata": {},
   "outputs": [
    {
     "ename": "ValueError",
     "evalue": "invalid literal for int() with base 10: ''",
     "output_type": "error",
     "traceback": [
      "\u001b[0;31m---------------------------------------------------------------------------\u001b[0m",
      "\u001b[0;31mValueError\u001b[0m                                Traceback (most recent call last)",
      "Cell \u001b[0;32mIn[32], line 1\u001b[0m\n\u001b[0;32m----> 1\u001b[0m var_input \u001b[38;5;241m=\u001b[39m \u001b[38;5;28mint\u001b[39m(\u001b[38;5;28minput\u001b[39m())\n\u001b[1;32m      2\u001b[0m \u001b[38;5;28mprint\u001b[39m(\u001b[38;5;28mtype\u001b[39m(var_input))\n",
      "\u001b[0;31mValueError\u001b[0m: invalid literal for int() with base 10: ''"
     ]
    }
   ],
   "source": [
    "var_input = int(input())\n",
    "print(type(var_input))"
   ]
  },
  {
   "cell_type": "markdown",
   "metadata": {},
   "source": [
    "## 1.5. Hàm\n",
    "\n",
    "Hàm là một nhóm các câu lệnh dùng để thực hiện một nhiệm vụ cụ thể nào đó.\n",
    "- Chia nhỏ chương trình\n",
    "- Dễ hiểu, dễ quản lý, chỉnh sửa code\n",
    "- Dễ teamwork\n",
    "- Tái sử dụng"
   ]
  },
  {
   "cell_type": "code",
   "execution_count": 23,
   "metadata": {},
   "outputs": [
    {
     "name": "stdout",
     "output_type": "stream",
     "text": [
      "Hi Mr. Hiếu!\n"
     ]
    }
   ],
   "source": [
    "# Khởi tạo hàm\n",
    "def say_hi(name, title=\" Mr.\"):\n",
    "    print(\"Hi\" + title + \" \" + name + \"!\")\n",
    "    \n",
    "\n",
    "# Gọi hàm\n",
    "say_hi('Hiếu')"
   ]
  },
  {
   "cell_type": "markdown",
   "metadata": {},
   "source": [
    "## 1.6. Module\n",
    "\n",
    "Code python có thể được đóng gói thành module và được sử dụng bởi các file Python khác\n",
    "\n",
    "Các module có sẵn còn được gọi là thư viện."
   ]
  },
  {
   "cell_type": "code",
   "execution_count": 24,
   "metadata": {},
   "outputs": [
    {
     "name": "stdout",
     "output_type": "stream",
     "text": [
      "1.0\n",
      "-1.0\n"
     ]
    }
   ],
   "source": [
    "import math\n",
    "\n",
    "print(math.sin(math.pi/2))\n",
    "print(math.cos(math.pi))"
   ]
  },
  {
   "cell_type": "markdown",
   "metadata": {},
   "source": [
    "# 2. Cấu trúc điều khiển \n",
    "\n",
    "## 2.1 Cấu trúc điều kiện (if elif else)\n",
    "\n",
    "## 2.2 Cấu trúc lặp (for, while): break, continue"
   ]
  },
  {
   "cell_type": "markdown",
   "metadata": {},
   "source": [
    "## Bài 1. Xử lý chuỗi ký tự\n",
    "**Input**: Một chuỗi ký tự có độ dài > 1.  \n",
    "**Output**: Chuỗi ký tự được in hoa.  \n",
    "**Hướng dẫn**: Hiện thực hàm uppercase(), nhận một tham số string là chuỗi ký tự được nhập.  \n",
    "**Ví dụ**:\n",
    "- Input: This is a string\n",
    "- Output: result = \"THIS IS A STRING\""
   ]
  },
  {
   "cell_type": "markdown",
   "metadata": {},
   "source": [
    "## Bài 2. Đường Chéo Hình Vuông\n",
    "**Input**: Một số thực *a* là độ dài một cạnh của hình vuông.  \n",
    "**Output**: Độ dài đường chéo của hình vuông đó.  \n",
    "Biết:\n",
    "- Công thức Pytago cho tam giác ABC vuông tại A:\n",
    "$\\begin{equation} AB^2 + AC^2 = BC^2 \\end{equation}$\n",
    "- Hàm tính căn bậc 2 trong thư viện *math*: *sqrt()*\n",
    "\n",
    "**Ví dụ**:\n",
    "- Input: a = 2\n",
    "- Output: 2.8284271247461903"
   ]
  },
  {
   "cell_type": "markdown",
   "metadata": {},
   "source": [
    "## Bài 3. Tổng Chữ Số\n",
    "**Input**: Một số nguyên *n* có 4 chữ số  \n",
    "**Output**: Tổng các chữ số trong *n*  \n",
    "**Ví dụ**:\n",
    "- Input: n = 1234\n",
    "- Output: result = 10\n",
    "- Giải thích: result = 1+2+3+4 = 10"
   ]
  },
  {
   "cell_type": "markdown",
   "metadata": {},
   "source": [
    "## Bài 4. Thứ Trong Tuần\n",
    "**Input**: Một số nguyên *2 <= n <= 8*.  \n",
    "**Output**: Tên của thứ tương ứng trong tuần.  \n",
    "**Ví dụ**:  \n",
    "Ví dụ 1:\n",
    "- Input: n = 2\n",
    "- Output: Monday  \n",
    "\n",
    "Ví dụ 2:\n",
    "- Input: n = 8\n",
    "- Output: Sunday"
   ]
  },
  {
   "cell_type": "markdown",
   "metadata": {},
   "source": [
    "## Bài 5. Tìm Dãy Con\n",
    "Một dãy con là một dãy liên tiếp các ký tự trong một chuỗi ký tự (string).  \n",
    "**Input**: Một chuỗi ký tự S và một chuỗi ký tự sub_s có độ dài >= 1.  \n",
    "**Output**: Index đầu tiên của sub_s trong S. Trả về -1 nếu không tìm thấy.  \n",
    "**Ví dụ**:  \n",
    "Ví dụ 1:\n",
    "- Input: S = \"abcdef\", s = \"bc\"\n",
    "- Output: result = 1\n",
    "- Giải thích: Dãy con \"bc\" được tìm thấy tại vị trí S[1]\n",
    "\n",
    "Ví dụ 2:  \n",
    "- Input: S = \"abcdefabcdef\", s = \"bc\"\n",
    "- Output: result = 1\n",
    "- Giải thích: Dãy con \"bc\" được tìm thấy tại vị trí S[1] và S[7], tuy nhiên ta chỉ cần in ra vị trí đầu tiên tìm thấy.\n",
    "\n",
    "Ví dụ 3:\n",
    "- Input: S = \"ABCDEF\", s = \"bc\"\n",
    "- Output: result = -1"
   ]
  }
 ],
 "metadata": {
  "kernelspec": {
   "display_name": "base",
   "language": "python",
   "name": "python3"
  },
  "language_info": {
   "codemirror_mode": {
    "name": "ipython",
    "version": 3
   },
   "file_extension": ".py",
   "mimetype": "text/x-python",
   "name": "python",
   "nbconvert_exporter": "python",
   "pygments_lexer": "ipython3",
   "version": "3.12.7"
  }
 },
 "nbformat": 4,
 "nbformat_minor": 2
}
