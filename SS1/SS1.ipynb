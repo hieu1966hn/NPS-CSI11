{
 "cells": [
  {
   "cell_type": "markdown",
   "metadata": {},
   "source": [
    "# 1. Các thành phần cơ bản của Python\n"
   ]
  },
  {
   "cell_type": "markdown",
   "metadata": {},
   "source": [
    "## 1.1. Hello World!"
   ]
  },
  {
   "cell_type": "code",
   "execution_count": 2,
   "metadata": {},
   "outputs": [
    {
     "name": "stdout",
     "output_type": "stream",
     "text": [
      "Hello World\n"
     ]
    }
   ],
   "source": [
    "print(\"Hello World\")"
   ]
  },
  {
   "cell_type": "markdown",
   "metadata": {},
   "source": [
    "## 1.2. Biến và Hằng số"
   ]
  },
  {
   "cell_type": "markdown",
   "metadata": {},
   "source": [
    "Trong Python, biến và hằng số được định nghĩa giống nhau"
   ]
  },
  {
   "cell_type": "code",
   "execution_count": 4,
   "metadata": {},
   "outputs": [
    {
     "name": "stdout",
     "output_type": "stream",
     "text": [
      "2\n",
      "3.1415\n"
     ]
    }
   ],
   "source": [
    "# biến\n",
    "number = 2\n",
    "print(number)\n",
    "\n",
    "# constant\n",
    "PI = 3.1415\n",
    "print(PI)\n"
   ]
  },
  {
   "cell_type": "markdown",
   "metadata": {},
   "source": [
    "## 1.3. Kiểu dữ liệu: \n",
    "\n",
    "Python có các kiểu dữ liệu cơ bản: int, float, string, list, dict, bool ..\n",
    "\n",
    "Xem kiểu dữ liệu của 1 biến: "
   ]
  },
  {
   "cell_type": "code",
   "execution_count": 7,
   "metadata": {},
   "outputs": [
    {
     "data": {
      "text/plain": [
       "str"
      ]
     },
     "execution_count": 7,
     "metadata": {},
     "output_type": "execute_result"
    }
   ],
   "source": [
    "var_string = \"Hi\"\n",
    "type(var_string)\n"
   ]
  },
  {
   "cell_type": "markdown",
   "metadata": {},
   "source": [
    "## 1.4. Phép toán\n"
   ]
  },
  {
   "cell_type": "markdown",
   "metadata": {},
   "source": [
    "Phép toán toán học "
   ]
  },
  {
   "cell_type": "code",
   "execution_count": 13,
   "metadata": {},
   "outputs": [
    {
     "name": "stdout",
     "output_type": "stream",
     "text": [
      "19.3\n",
      "6.7\n",
      "81.89999999999999\n",
      "2.0634920634920637\n",
      "2.0\n",
      "0.40000000000000036\n",
      "10419409.804138675\n",
      "Hàm có sẵn\n",
      "13\n",
      "6.3\n",
      "123\n"
     ]
    }
   ],
   "source": [
    "num1 = 13\n",
    "num2 = 6.3\n",
    "num3 = 6\n",
    "\n",
    "print(num1 + num2)\n",
    "print(num1 - num2)\n",
    "print(num1 * num2)\n",
    "print(num1 / num2)\n",
    "print(num1 // num2) # Chia lấy phần nguyên\n",
    "print(num1 % num2) # Chia lấy phần Dư\n",
    "print(num1 ** num2) # Số mũ\n",
    "\n",
    "\n",
    "## Hàm có sẵn\n",
    "print(\"Hàm có sẵn\")\n",
    "print(max(num1, num2))\n",
    "print(min(num1, num2))\n",
    "print(abs(-123))"
   ]
  },
  {
   "cell_type": "markdown",
   "metadata": {},
   "source": [
    "Phép toán so sánh\n"
   ]
  },
  {
   "cell_type": "code",
   "execution_count": 14,
   "metadata": {},
   "outputs": [
    {
     "name": "stdout",
     "output_type": "stream",
     "text": [
      "True\n",
      "False\n",
      "False\n",
      "True\n",
      "True\n",
      "False\n"
     ]
    }
   ],
   "source": [
    "print(num1 > num2)\n",
    "print(num1 < num2)\n",
    "print(num1 == num2)\n",
    "print(num1 != num2)\n",
    "print(num1 >= num2)\n",
    "print(num1 <= num2)"
   ]
  },
  {
   "cell_type": "markdown",
   "metadata": {},
   "source": [
    "Phép toán Logic"
   ]
  },
  {
   "cell_type": "code",
   "execution_count": 17,
   "metadata": {},
   "outputs": [
    {
     "name": "stdout",
     "output_type": "stream",
     "text": [
      "False\n",
      "True\n",
      "False\n"
     ]
    }
   ],
   "source": [
    "bool1 = 3 < 5 # True\n",
    "bool2 = 3 > 5 #  False\n",
    "\n",
    "print(bool1 and bool2)\n",
    "print(bool1 or bool2)\n",
    "print(not bool1)\n"
   ]
  },
  {
   "cell_type": "markdown",
   "metadata": {},
   "source": [
    "## 1.4. Input và Output"
   ]
  },
  {
   "cell_type": "markdown",
   "metadata": {},
   "source": [
    "Nhập và xuất string: "
   ]
  },
  {
   "cell_type": "code",
   "execution_count": 18,
   "metadata": {},
   "outputs": [
    {
     "name": "stdout",
     "output_type": "stream",
     "text": [
      "Chào mọi người\n"
     ]
    }
   ],
   "source": [
    "var_input = input()\n",
    "\n",
    "print(var_input)"
   ]
  },
  {
   "cell_type": "markdown",
   "metadata": {},
   "source": [
    "Nhập và xuất số nguyên"
   ]
  },
  {
   "cell_type": "code",
   "execution_count": 19,
   "metadata": {},
   "outputs": [
    {
     "name": "stdout",
     "output_type": "stream",
     "text": [
      "<class 'int'>\n"
     ]
    }
   ],
   "source": [
    "var_input = int(input())\n",
    "print(type(var_input))"
   ]
  },
  {
   "cell_type": "markdown",
   "metadata": {},
   "source": [
    "## 1.5. Hàm\n",
    "\n",
    "Hàm là một nhóm các câu lệnh dùng để thực hiện một nhiệm vụ cụ thể nào đó.\n",
    "- Chia nhỏ chương trình\n",
    "- Dễ hiểu, dễ quản lý, chỉnh sửa code\n",
    "- Dễ teamwork\n",
    "- Tái sử dụng"
   ]
  },
  {
   "cell_type": "code",
   "execution_count": 23,
   "metadata": {},
   "outputs": [
    {
     "name": "stdout",
     "output_type": "stream",
     "text": [
      "Hi Mr. Hiếu!\n"
     ]
    }
   ],
   "source": [
    "# Khởi tạo hàm\n",
    "def say_hi(name, title=\" Mr.\"):\n",
    "    print(\"Hi\" + title + \" \" + name + \"!\")\n",
    "    \n",
    "\n",
    "# Gọi hàm\n",
    "say_hi('Hiếu')"
   ]
  },
  {
   "cell_type": "markdown",
   "metadata": {},
   "source": [
    "## 1.6. Module\n",
    "\n",
    "Code python có thể được đóng gói thành module và được sử dụng bởi các file Python khác\n",
    "\n",
    "Các module có sẵn còn được gọi là thư viện."
   ]
  },
  {
   "cell_type": "code",
   "execution_count": 24,
   "metadata": {},
   "outputs": [
    {
     "name": "stdout",
     "output_type": "stream",
     "text": [
      "1.0\n",
      "-1.0\n"
     ]
    }
   ],
   "source": [
    "import math\n",
    "\n",
    "print(math.sin(math.pi/2))\n",
    "print(math.cos(math.pi))"
   ]
  },
  {
   "cell_type": "markdown",
   "metadata": {},
   "source": [
    "# 2. Cấu trúc điều khiển \n",
    "\n",
    "## 2.1 Cấu trúc điều kiện (if elif else)\n",
    "\n",
    "## 2.2 Cấu trúc lặp (for, while): break, continue"
   ]
  },
  {
   "cell_type": "markdown",
   "metadata": {},
   "source": [
    "## Bài 1. Lọc Từ\n",
    "\n",
    "Cho một đoạn văn gồm nhiều từ và dấu câu, mỗi từ trong đoạn văn cách nhau bằng ít nhất một dấu cách. Lọc ra các từ đã xuất hiện trong đoạn văn và sắp xếp theo thứ tự bảng chữ cái (không phân biệt chữ hoa và thường). \n",
    "\n",
    "**Input**: Một đoạn văn dưới dạng *str* với độ dài < 10^6 ký tự.  \n",
    "**Output**: Một *list* chứa các từ đã xuất hiện trong đoạn văn theo thứ tự bảng chữ cái. Trả về *list* rỗng nếu không có từ nào.  \n",
    "**Ví dụ**:\n",
    "- Input: \"The cat is chasing the rat. The dog is also chasing the rat.\"\n",
    "- Output: ['cat', 'chasing', 'is', 'rat', 'the']\n",
    "- Giải thích: Output là các từ đã xuất hiện trong đoạn văn được sắp xếp theo bảng chữ cái. Các từ 'is' và 'the' xuất hiện nhiều lần được lọc ra.\n",
    "  \n",
    "**Gợi ý**: Lọc các ký tự đặc biệt"
   ]
  },
  {
   "cell_type": "markdown",
   "metadata": {},
   "source": [
    "## Bài 2. Cắt Chữ\n",
    "\n",
    "Cho một đoạn văn gồm nhiều từ và dấu câu. Mỗi từ trong đoạn văn cách nhau bằng ít nhất một dấu cách. Đoạn văn này được hiển thị trên màn hình có độ rộng *k* ký tự. Hãy cắt đoạn văn này thành những chuỗi nhỏ hơn sao cho:\n",
    "- Mỗi chuỗi là dài nhất có thể\n",
    "- Mỗi chuỗi không được dài hơn k ký tự.\n",
    "- Không từ nào bị cắt ở giữa (VD không được cắt \"MindX Technology School.\" thành \"MindX Tech\" và \"nology School.\")\n",
    "- Không có dấu cách ở đầu và cuối chuỗi đã cắt (VD có thể cắt \"MindX Technology School.\" thành \"MindX Technology\" và \"School.\")\n",
    "\n",
    "**Input**: Một đoạn văn dưới dạng *str* với độ dài < 10^6 ký tự và một số nguyên *0 < k < 50*. Không từ nào dài hơn k.  \n",
    "**Output**: Trả về một list các chuỗi đã cắt.   \n",
    "**Ví dụ**:  \n",
    "- Input: \"The cat is chasing the rat. The dog is also chasing the rat.\", k=10\n",
    "- Output: ['The cat is', 'chasing', 'the rat.', 'The dog is', 'also', 'chasing', 'the rat.']"
   ]
  },
  {
   "cell_type": "markdown",
   "metadata": {},
   "source": [
    "## Bài 3. Phần Tử Bất Thường\n",
    "\n",
    "Cho hai *list* giống nhau về các phần tử nhưng khác nhau về thứ tự. Các phần tử trong *list* không trùng nhau. Tuy nhiên do sự cố, một trong hai list bị dư một phần tử lạ không trùng với các phần tử khác. Hãy tìm giá trị của phần tử đó.  \n",
    "\n",
    "**Input**: Hai list số nguyên có độ dài *n* và *n+1* (hoặc *n+1* và *n*) với *0 < n < 10^6*.  \n",
    "**Output**: Một số nguyên là giá trị của phần tử bất thường.  \n",
    "**Ví dụ**:\n",
    "- Input: [1, 4, 5, 7, 9], [7, 4, 1, 9]\n",
    "- Output: 5"
   ]
  },
  {
   "cell_type": "markdown",
   "metadata": {},
   "source": [
    "## Bài 4. Tổng Đường Chéo\n",
    "\n",
    "Cho một ma trận với *n* dòng và *n* cột. Hãy tính tổng các giá trị trên hai đường chéo của ma trận.\n",
    " \n",
    "**Input**: Ma trận *n x n* dưới dạng *list lồng nhau*, với *0 < n < 1000*. Mỗi phần tử trong khoảng [-10^6, 10^6]  \n",
    "**Output**: Một *tuple* bao gồm hai giá trị là tổng các giá trị trên đường chéo chính và đường chéo phụ, theo thứ tự.  \n",
    "**Ví dụ**:\n",
    "- Input:  \n",
    "     [[1, 2, 3],  \n",
    "&nbsp;[4, 5, 6],  \n",
    "&nbsp;[7, 8, 9]]\n",
    "- Output: (15, 15)\n",
    "- Giải thích: Tổng trên đường chéo chính là 1+5+9 = 15; trên đường chéo phụ là 3+5+7 = 15\n",
    "\n",
    "**Gợi ý**:\n",
    "Trong Python, ma trận có thể được lưu trữ dưới dạng *list lồng nhau*, tức các phần tử trong *list* là các *list* khác, mỗi *list* phần tử có cùng độ dài.  \n",
    "Cách truy vấn:\n"
   ]
  }
 ],
 "metadata": {
  "kernelspec": {
   "display_name": "base",
   "language": "python",
   "name": "python3"
  },
  "language_info": {
   "codemirror_mode": {
    "name": "ipython",
    "version": 3
   },
   "file_extension": ".py",
   "mimetype": "text/x-python",
   "name": "python",
   "nbconvert_exporter": "python",
   "pygments_lexer": "ipython3",
   "version": "3.12.7"
  }
 },
 "nbformat": 4,
 "nbformat_minor": 2
}
