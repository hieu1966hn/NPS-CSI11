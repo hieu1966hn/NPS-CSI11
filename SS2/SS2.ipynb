{
 "cells": [
  {
   "cell_type": "markdown",
   "metadata": {},
   "source": [
    "# Buổi 2: Giới thiệu về thuật toán và cấu trúc dữ liệu\n",
    "- ý nghĩa của thuật toán và cấu trúc dữ liệu.\n",
    "- Mối quan hệ giữa thuật toán và cấu trúc dữ liệu.\n",
    "- Các cấu trúc dữ liệu sẵn có trong Python."
   ]
  },
  {
   "cell_type": "markdown",
   "metadata": {},
   "source": [
    "Thuật toán: Là một tập hợp hữu hạn các bước cần thực hiện để giải quyết một vấn đề nào đó\n",
    "\n",
    "Ý nghĩa: Ví dụ với bài toán sắp xếp\n",
    "+ Bài toán sắp xếp dễ thấy nhất trong chức năng sắp xếp file cua windowns(thời gian, type, ...) hoặc sắp xép video trên kênh youtube(thời gian, lượt xem, thể loại, ...)\n",
    "+ Giả sử cần sắp xếp 1 tỉ (10^9) số, thuật toán đơn giản nhất: \"tìm số lớn nhất\" và đặt lên đầu đến khi hoàn tất, sẽ cần khoảng \"10^18\" phép tính. Một máy tính hiện đại cần khoảng 1s để xử lý \"10^9\" câu lệnh ===> cần hơn \"30 năm\" để sắp xếp.\n",
    "+ Với các thuật toán hiệu quả hơn (Merge sort, Quick Sort) thì chỉ cần thực hiện khoảng 10^10 phép tính => Khoảng 10s để sắp xếp.\n",
    "+ Máy tính hoạt động cần phần cứng và điện để hoạt động nên thời gian chạy càng lâu thì càng tốn kém, nhất là đối với hệ thống lớn => thuật toán sinh ra để giải quyết các bài toán theo cách hiệu quả nhất."
   ]
  },
  {
   "cell_type": "markdown",
   "metadata": {},
   "source": [
    "Độ phức tạp: Là thước đo độ hiệu quả của thuật toán dựa theo kích cỡ tập dữ liệu đầu vào.\n",
    "- Có thể chia ra thành độ phức tạp về \"không gian\" (kích cỡ bộ nhớ mà thuật toán cần để xử lý)\n",
    "- Người ta thường dùng ký pháp O-lớn để nói về độ phức tạp của thuật toán. Ký pháp này thể hiện độ phức tạp trong trường hợp xấu nhất. Ký pháp này không thể hiện thời gian chạy thực tế của thuật toán, mà thể hiện mức độ thay đổi về thời gian chạy (hoặc bộ nhớ) của thuật toán khi kích cỡ dữ liệu đầu vào thay đổi. Tuy nhiên, ta vẫn có thể dùng ký pháp này để ước lượng thời gian chạy thực tế.\n",
    "\n",
    "- VD: Một thuật toán sắp xếp có độ phức tạp về thời gian là O(N^2) thực thi trong 0.1s khi kích cỡ đầu vào là 10^4 số. Như vậy, khi kích cỡ đầu vào tăng gấp đôi (2*10^4), ta có thể ước tính thời gian thực thi sẽ tăng gấp 2^2 = 4 lần, tức khoảng 0.4s."
   ]
  },
  {
   "cell_type": "markdown",
   "metadata": {},
   "source": [
    "## 1.1 Độ phức tạp về thời gian\n",
    "DPTVTG Thể hiện số phép toán mà thuật toán phải xử lý, từ đó ảnh hưởng đến thời gian thi hành của thuật toán.\n",
    "\n",
    "Ví dụ: Bài toán tính tổng các số nguyên từ 1 đến n (n>1)."
   ]
  },
  {
   "cell_type": "code",
   "execution_count": 1,
   "metadata": {},
   "outputs": [
    {
     "data": {
      "text/plain": [
       "15"
      ]
     },
     "execution_count": 1,
     "metadata": {},
     "output_type": "execute_result"
    }
   ],
   "source": [
    "# Method 1: Sử dụng vòng lặp. Time complexity O(n)\n",
    "def cal_sum_n_v1(n):\n",
    "    result = 0\n",
    "    for i in range(n+1):\n",
    "        result = result + i ## += i\n",
    "    return result\n",
    "\n",
    "cal_sum_n_v1(5)"
   ]
  },
  {
   "cell_type": "code",
   "execution_count": 2,
   "metadata": {},
   "outputs": [
    {
     "data": {
      "text/plain": [
       "15"
      ]
     },
     "execution_count": 2,
     "metadata": {},
     "output_type": "execute_result"
    }
   ],
   "source": [
    "# Method 2: Sử dụng toán học. Time complexity O(1)\n",
    "def cal_sum_n_v2(n):\n",
    "    result = (n + 1) * n // 2\n",
    "    return result\n",
    "\n",
    "\n",
    "cal_sum_n_v2(5)"
   ]
  },
  {
   "cell_type": "markdown",
   "metadata": {},
   "source": [
    "Thời gian thực hiện của 2 thậut toán trên: "
   ]
  },
  {
   "cell_type": "code",
   "execution_count": 6,
   "metadata": {},
   "outputs": [],
   "source": [
    "import time\n",
    "import math\n",
    "## Hàm tính thời gian chạy code của 1 func\n",
    "def cal_time(func):\n",
    "    start_time = time.time()\n",
    "    result = func()\n",
    "    real_time = time.time() - start_time ## thời gian chạy hàm\n",
    "    return real_time, result"
   ]
  },
  {
   "cell_type": "code",
   "execution_count": 7,
   "metadata": {},
   "outputs": [
    {
     "name": "stdout",
     "output_type": "stream",
     "text": [
      "Execution time of ONE MILLION numbers\n",
      "-O(n) algorithm: 0.2913939952850342 secs | result = 500000500000\n",
      "-O(n) algorithm: 0.2913939952850342 secs | result = 500000500000\n",
      "\n",
      "Execution time of TEN MILLION numbers\n",
      "-O(n) algorithm: 1.8893790245056152 secs | result = 50000005000000\n",
      "-O(n) algorithm: 1.8893790245056152 secs | result = 50000005000000\n",
      "\n",
      "Execution time of ONE HUNDRED MILLION numbers\n",
      "-O(n) algorithm: 20.5762460231781 secs | result = 5000000050000000\n",
      "-O(n) algorithm: 20.5762460231781 secs | result = 5000000050000000\n",
      "\n"
     ]
    }
   ],
   "source": [
    "BIG_NUMS = {\n",
    "    'ONE MILLION': 1000000,\n",
    "    'TEN MILLION': 10000000,\n",
    "    'ONE HUNDRED MILLION': 100000000,\n",
    "    }\n",
    "\n",
    "for name, num in BIG_NUMS.items():\n",
    "    print(\"Execution time of {} numbers\".format(name))\n",
    "    time1, res1 = cal_time(lambda: cal_sum_n_v1(num))\n",
    "    time2, res2 = cal_time(lambda: cal_sum_n_v2(num))\n",
    "    \n",
    "    print('-O(n) algorithm: {} secs | result = {}'.format(time1, res1))\n",
    "    print('-O(n) algorithm: {} secs | result = {}'.format(time1, res2))\n",
    "    print()"
   ]
  },
  {
   "cell_type": "code",
   "execution_count": null,
   "metadata": {},
   "outputs": [],
   "source": []
  }
 ],
 "metadata": {
  "kernelspec": {
   "display_name": "base",
   "language": "python",
   "name": "python3"
  },
  "language_info": {
   "codemirror_mode": {
    "name": "ipython",
    "version": 3
   },
   "file_extension": ".py",
   "mimetype": "text/x-python",
   "name": "python",
   "nbconvert_exporter": "python",
   "pygments_lexer": "ipython3",
   "version": "3.12.7"
  }
 },
 "nbformat": 4,
 "nbformat_minor": 2
}
