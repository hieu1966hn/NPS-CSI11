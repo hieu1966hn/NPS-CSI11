{
 "cells": [
  {
   "cell_type": "markdown",
   "metadata": {},
   "source": [
    "# Buổi 3: Các cấu trúc dữ liệu trong Python\n",
    "\n",
    "- Cách hoạt động của các CTDL sẵn có trong Python\n",
    "- Ứng dụng của từng CTDl\n",
    "- Phân nhóm 2 loại CTDL"
   ]
  },
  {
   "cell_type": "markdown",
   "metadata": {},
   "source": [
    "#### Khái niệm: CTDL\n",
    "\n",
    "CTDL là một cách sắp xếp và lưu trữ dữ liệu để dễ dàng xử lý và truy vấn. Một CTDL định nghĩa \n",
    "mối quan hệ giữa các thành phần dữ liệu trong nó và phương thức để xử lý trên dữ liệu\n",
    "- Chia làm 2 loại:\n",
    "+ Nhóm CTDL có thứ tự: List, tuple, String\n",
    "+ Nhóm CTDL không có thứ tự: Dictionary, Set \n"
   ]
  },
  {
   "cell_type": "markdown",
   "metadata": {},
   "source": [
    "### Set\n",
    "- Set lưu trữ các phần tử mà không quan tâm đến thứ tự. Các phần tử trong set không được trùng nhau.\n",
    "- Ưu điểm: \n",
    "+ Kiểm tra một phần tử có nằm trong tập hợp hay không\n",
    "+ Xóa các phần tử trùng nhau\n",
    "+ Thực hiện các phép toán trên tập hợp (phép giao, phép hợp, phép hiệu)"
   ]
  },
  {
   "cell_type": "markdown",
   "metadata": {},
   "source": [
    "### Các đặc trưng của set: \n",
    "- Có thể thay đổi (mutable)\n",
    "- Động (dynamic)\n",
    "- Set là một tập hợp không có thứ tự nên không thể truy vấn các phần tử trong set dựa vào index.\n"
   ]
  },
  {
   "cell_type": "markdown",
   "metadata": {},
   "source": [
    "##### Khởi tạo"
   ]
  },
  {
   "cell_type": "code",
   "execution_count": 18,
   "metadata": {},
   "outputs": [
    {
     "name": "stdout",
     "output_type": "stream",
     "text": [
      "{0, 1, 2, 3, 4, 5, 6, 7, 8, 9}\n",
      "{'l', 'o', 'h', 'e'}\n"
     ]
    }
   ],
   "source": [
    "set_1 = set() # empty set\n",
    "set_2 = {1, 2, 3, 4, 5} # set with values\n",
    "set_3 = {x for x in range(10)} # set comprehension\n",
    "set_4 = set(range(10)) # the set() constructor\n",
    "set_5 = set(\"hello\") # the set() constructor to string\n",
    "\n",
    "print(set_3)\n",
    "print(set_5)"
   ]
  },
  {
   "cell_type": "markdown",
   "metadata": {},
   "source": [
    "#### Truy vấn"
   ]
  },
  {
   "cell_type": "code",
   "execution_count": 19,
   "metadata": {},
   "outputs": [
    {
     "name": "stdout",
     "output_type": "stream",
     "text": [
      "{1, 2, 3, 4, 5}\n"
     ]
    }
   ],
   "source": [
    "print(set_2) # the whole set"
   ]
  },
  {
   "cell_type": "code",
   "execution_count": 20,
   "metadata": {},
   "outputs": [
    {
     "name": "stdout",
     "output_type": "stream",
     "text": [
      "10\n"
     ]
    }
   ],
   "source": [
    "# get length \n",
    "print(len(set_4))"
   ]
  },
  {
   "cell_type": "code",
   "execution_count": 21,
   "metadata": {},
   "outputs": [
    {
     "name": "stdout",
     "output_type": "stream",
     "text": [
      "True\n",
      "False\n"
     ]
    }
   ],
   "source": [
    "# check membership\n",
    "print(5 in set_4)\n",
    "print(5 not in set_4)"
   ]
  },
  {
   "cell_type": "code",
   "execution_count": 22,
   "metadata": {},
   "outputs": [
    {
     "name": "stdout",
     "output_type": "stream",
     "text": [
      "l o h e "
     ]
    }
   ],
   "source": [
    "# loop through elements\n",
    "for el in set_5:\n",
    "    print(el, end=\" \")"
   ]
  },
  {
   "cell_type": "markdown",
   "metadata": {},
   "source": [
    "### Một số phương thức "
   ]
  },
  {
   "cell_type": "markdown",
   "metadata": {},
   "source": [
    "#### Thêm phần tử"
   ]
  },
  {
   "cell_type": "code",
   "execution_count": 24,
   "metadata": {},
   "outputs": [
    {
     "name": "stdout",
     "output_type": "stream",
     "text": [
      "{'d', 'f', 'a', 'b', 'MindX', 'c', 'e'}\n",
      "{'d', 'f', 'a', 'b', 'MindX', 'c', 'e'}\n"
     ]
    }
   ],
   "source": [
    "set_5 = set(\"abcdef\")\n",
    "set_5.add(\"MindX\") \n",
    "\n",
    "print(set_5)\n",
    "\n",
    "\n",
    "set_5.add(\"MindX\") # this statement has no effect as \"mindx\" is already in the set\n",
    "\n",
    "print(set_5)\n"
   ]
  },
  {
   "cell_type": "markdown",
   "metadata": {},
   "source": [
    "### Xóa phần tử"
   ]
  },
  {
   "cell_type": "code",
   "execution_count": 26,
   "metadata": {},
   "outputs": [
    {
     "ename": "KeyError",
     "evalue": "'MindX'",
     "output_type": "error",
     "traceback": [
      "\u001b[0;31m---------------------------------------------------------------------------\u001b[0m",
      "\u001b[0;31mKeyError\u001b[0m                                  Traceback (most recent call last)",
      "Cell \u001b[0;32mIn[26], line 1\u001b[0m\n\u001b[0;32m----> 1\u001b[0m set_5\u001b[38;5;241m.\u001b[39mremove(\u001b[38;5;124m\"\u001b[39m\u001b[38;5;124mMindX\u001b[39m\u001b[38;5;124m\"\u001b[39m) \u001b[38;5;66;03m# remove an element from the set\u001b[39;00m\n\u001b[1;32m      2\u001b[0m \u001b[38;5;28mprint\u001b[39m(set_5)\n\u001b[1;32m      4\u001b[0m set_5\u001b[38;5;241m.\u001b[39mremove(\u001b[38;5;124m\"\u001b[39m\u001b[38;5;124mMindX\u001b[39m\u001b[38;5;124m\"\u001b[39m) \n",
      "\u001b[0;31mKeyError\u001b[0m: 'MindX'"
     ]
    }
   ],
   "source": [
    "set_5.remove(\"MindX\") # remove an element from the set\n",
    "print(set_5)\n",
    "\n",
    "set_5.remove(\"MindX\") \n",
    "print(set_5)"
   ]
  },
  {
   "cell_type": "code",
   "execution_count": 27,
   "metadata": {},
   "outputs": [
    {
     "name": "stdout",
     "output_type": "stream",
     "text": [
      "{'d', 'f', 'a', 'b', 'c', 'e'}\n"
     ]
    }
   ],
   "source": [
    "set_5.discard(\"MindX\") # same as remove(), but does not raise error when element is not found\n",
    "print(set_5)"
   ]
  },
  {
   "cell_type": "markdown",
   "metadata": {},
   "source": [
    "### Kiểm tra tập hợp con\n"
   ]
  },
  {
   "cell_type": "code",
   "execution_count": 29,
   "metadata": {},
   "outputs": [
    {
     "name": "stdout",
     "output_type": "stream",
     "text": [
      "set_2 is subset of set_1: True\n",
      "set_3 is subset of set_1: False\n",
      "\n",
      "set_1 is superset of set_2: True\n",
      "set_1 is superset of set_3: False\n"
     ]
    }
   ],
   "source": [
    "set_1 = set(\"abcdef\")\n",
    "set_2 = set(\"abc\")\n",
    "set_3 = set(\"xyz\")\n",
    "\n",
    "# check if a set is a subset of another set\n",
    "\n",
    "print(\"set_2 is subset of set_1: {}\".format(set_2.issubset(set_1)))\n",
    "print(\"set_3 is subset of set_1: {}\".format(set_3.issubset(set_1)))\n",
    "print()\n",
    "\n",
    "\n",
    "# check if a set is a superset of another \n",
    "print(\"set_1 is superset of set_2: {}\".format(set_1.issuperset(set_2)))\n",
    "print(\"set_1 is superset of set_3: {}\".format(set_1.issuperset(set_3)))"
   ]
  },
  {
   "cell_type": "markdown",
   "metadata": {},
   "source": [
    "### Sao chép"
   ]
  },
  {
   "cell_type": "code",
   "execution_count": 30,
   "metadata": {},
   "outputs": [
    {
     "name": "stdout",
     "output_type": "stream",
     "text": [
      "copy():      {'e', 'b', 'd', 'c', 'f', 'a'}\n",
      "no copy():   {'d', 'f', 'a', 'b', 'e'}\n"
     ]
    }
   ],
   "source": [
    "set_1 = set(\"abcdef\")\n",
    "\n",
    "# ceate another set in memory\n",
    "set_copy = set_1.copy()\n",
    "\n",
    "# compare to normal assignment\n",
    "set_nocopy = set_1\n",
    "\n",
    "# remove a value\n",
    "set_1.remove(\"c\")\n",
    "print(\"copy():      {}\".format(set_copy))\n",
    "print(\"no copy():   {}\".format(set_nocopy))"
   ]
  },
  {
   "cell_type": "markdown",
   "metadata": {},
   "source": [
    "#### Phép toán trên tập hợp"
   ]
  },
  {
   "cell_type": "code",
   "execution_count": 32,
   "metadata": {},
   "outputs": [
    {
     "name": "stdout",
     "output_type": "stream",
     "text": [
      "Intersection: {'f', 'd', 'e'}\n",
      "Union: {'g', 'h', 'i', 'd', 'f', 'a', 'b', 'c', 'e'}\n",
      "Difference: {'b', 'a', 'c'}\n"
     ]
    }
   ],
   "source": [
    "set_1 = set(\"abcdef\")\n",
    "set_2 = set(\"defghi\")\n",
    "\n",
    "# phép giao \n",
    "print('Intersection: {}'.format(set_1.intersection(set_2))) \n",
    "\n",
    "# phép hợp\n",
    "print('Union: {}'.format(set_1.union(set_2)))\n",
    "\n",
    "# phép hiệu\n",
    "print('Difference: {}'.format(set_1.difference(set_2)))"
   ]
  },
  {
   "cell_type": "markdown",
   "metadata": {},
   "source": [
    "Bài tập thực hành: \n",
    "1. Sắp xếp dãy\n",
    "Yêu cầu: Cho hai dãy số arr1 và arr2 dưới dạng list, nhập 2 dãy số thành một dãy và sx theo thứ tự giảm dần."
   ]
  },
  {
   "cell_type": "code",
   "execution_count": 35,
   "metadata": {},
   "outputs": [
    {
     "name": "stdout",
     "output_type": "stream",
     "text": [
      "[4455, 5866, 3768, 6351, 718, 4179, 8942, 5142, 5000, 1580, 4357, 6171, 9878, 9025, 5861, 2497, 4539, 4998, 2662, 9943, 1577, 8431, 8536, 8660, 5945, 2156, 8818, 6228, 5428, 7465, 4494, 6283, 3669, 6319, 7168, 9382, 4333, 5754, 6778, 388, 7330, 192, 3597, 7538, 5708, 4345, 6350, 7703, 1027, 6798]\n",
      "[2822, 3712, 6651, 5956, 6254, 8857, 5518, 5396, 2242, 6299, 4699, 2614, 8852, 4811, 3128, 2425, 419, 9119, 5236, 9153, 1019, 5859, 3142, 2704, 230, 2261, 3602, 6283, 3970, 243, 2624, 2050, 6886, 1296, 1994, 6598, 5262, 666, 5227, 47, 5265, 1367, 3434, 6442, 595, 3326, 7816, 9719, 9358, 1959]\n"
     ]
    }
   ],
   "source": [
    "import numpy as np\n",
    "arr1 = np.random.randint(0, 10000, 50).tolist()\n",
    "arr2 = np.random.randint(0, 10000, 50).tolist()\n",
    "\n",
    "print(arr1)\n",
    "print(arr2)\n"
   ]
  },
  {
   "cell_type": "code",
   "execution_count": 51,
   "metadata": {},
   "outputs": [],
   "source": [
    "def merge_and_sort(arr1, arr2): \n",
    "    new_arr = arr1 + arr2\n",
    "    new_arr.sort(reverse=True)\n",
    "    return new_arr\n"
   ]
  },
  {
   "cell_type": "code",
   "execution_count": 53,
   "metadata": {},
   "outputs": [
    {
     "name": "stdout",
     "output_type": "stream",
     "text": [
      "[9943, 9878, 9719, 9382, 9358, 9153, 9119, 9025, 8942, 8857, 8852, 8818, 8660, 8536, 8431, 7816, 7703, 7538, 7465, 7330, 7168, 6886, 6798, 6778, 6651, 6598, 6442, 6351, 6350, 6319, 6299, 6283, 6283, 6254, 6228, 6171, 5956, 5945, 5866, 5861, 5859, 5754, 5708, 5518, 5428, 5396, 5265, 5262, 5236, 5227, 5142, 5000, 4998, 4811, 4699, 4539, 4494, 4455, 4357, 4345, 4333, 4179, 3970, 3768, 3712, 3669, 3602, 3597, 3434, 3326, 3142, 3128, 2822, 2704, 2662, 2624, 2614, 2497, 2425, 2261, 2242, 2156, 2050, 1994, 1959, 1580, 1577, 1367, 1296, 1027, 1019, 718, 666, 595, 419, 388, 243, 230, 192, 47]\n"
     ]
    }
   ],
   "source": [
    "print(merge_and_sort(arr1, arr2))"
   ]
  }
 ],
 "metadata": {
  "kernelspec": {
   "display_name": "base",
   "language": "python",
   "name": "python3"
  },
  "language_info": {
   "codemirror_mode": {
    "name": "ipython",
    "version": 3
   },
   "file_extension": ".py",
   "mimetype": "text/x-python",
   "name": "python",
   "nbconvert_exporter": "python",
   "pygments_lexer": "ipython3",
   "version": "3.12.7"
  }
 },
 "nbformat": 4,
 "nbformat_minor": 2
}
