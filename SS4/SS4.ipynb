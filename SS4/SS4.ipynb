{
 "cells": [
  {
   "cell_type": "markdown",
   "metadata": {},
   "source": [
    "# Buổi 4: Thuật toán tìm kiếm\n",
    "- Các dạng bài toán tìm kiếm\n",
    "- Các thuật toán tìm kiếm: Linear Search, Binary Search, Tìm kiếm Subset\n",
    "- Phương pháp **Đệ Quy**"
   ]
  },
  {
   "cell_type": "markdown",
   "metadata": {},
   "source": [
    "Bài toán tìm kiếm: \n",
    "- Nhập chữ để tìm kiếm bạn vè trên facebook, tìm đoạn chat trên face, mess,.. tìm phần mềm trên thanh search của Windows taskbar, tìm kiếm trên Google, Youtube,... \n",
    "- Cho danh sách khách hàng, tìm số điện thoại khách hàng dựa vào họ tên; cho doanh số bán hàng, tìm được mặt hàng phổ biến nhất, các khách hàng trung thành.\n",
    "\n",
    "- Tại sao phải học  cách viết thuật toán khi Python và các thư viện như Numpy đã hỗ trợ? sắp xếp ... => Những việc đó đã có thư viện hỗ trợ và hỗ trợ rất tốt.\n",
    "+ Mục đích: Học thuật để phát triển được tư duy lập trình và tư duy thuật toán: Cách phân tích một vấn đề từ dạng văn bản hay lời nói thành input, output và các bước xử lý input thành output\n",
    "+ Để chọn cách lưu trữ và xử lý dữ liệu phù hợp để giải quyết các vấn đề lớn hơn.\n",
    "\n",
    "\n",
    "- Khi xử lý một bài toán tìm kiếm, ta quan tâm đến: \n",
    "+ Đặc trưng của thành phần cần tìm kiếm\n",
    "+ Đặc trưng của dữ liệu chứa thành phần đó"
   ]
  },
  {
   "cell_type": "markdown",
   "metadata": {},
   "source": [
    "## 1. Linear Search: Tìm kiếm tuần tự\n",
    "\n",
    "Bài toán: Tìm kiếm vị trí của một phần tử dựa vào giá trị của nó trên một danh sách cho trước\n",
    "Yêu cầu: kiểm tra 20 có nằm trong danh sách không? nếu có, trả về vị trí tìm thấy."
   ]
  },
  {
   "cell_type": "code",
   "execution_count": 3,
   "metadata": {},
   "outputs": [],
   "source": [
    "number_list = [5, 9, 1, 12, 20, -10, - 15, 20, - 20, 0, 6, 0]\n",
    "\n",
    "def linear_search(data_list ,value):\n",
    "    for i, element in enumerate(data_list):\n",
    "        if element == value:\n",
    "            return i\n",
    "    return -1 \n",
    "    "
   ]
  },
  {
   "cell_type": "code",
   "execution_count": 4,
   "metadata": {},
   "outputs": [
    {
     "name": "stdout",
     "output_type": "stream",
     "text": [
      "20 found at index 4\n"
     ]
    }
   ],
   "source": [
    "def find_number(number_list, number):\n",
    "    index = linear_search(number_list, number) ## Gọi hàm tìm kiếm tuần tự\n",
    "    if index >= 0:\n",
    "        print('{} found at index {}'.format(number, index))\n",
    "    else: \n",
    "        print('{} not found'.format(number))\n",
    "    \n",
    "## Gọi hàm hiển thị kết quả \n",
    "number = 20\n",
    "find_number(number_list, number)"
   ]
  }
 ],
 "metadata": {
  "kernelspec": {
   "display_name": "base",
   "language": "python",
   "name": "python3"
  },
  "language_info": {
   "codemirror_mode": {
    "name": "ipython",
    "version": 3
   },
   "file_extension": ".py",
   "mimetype": "text/x-python",
   "name": "python",
   "nbconvert_exporter": "python",
   "pygments_lexer": "ipython3",
   "version": "3.12.7"
  }
 },
 "nbformat": 4,
 "nbformat_minor": 2
}
