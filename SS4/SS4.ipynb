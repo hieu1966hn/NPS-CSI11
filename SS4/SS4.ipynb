{
 "cells": [
  {
   "cell_type": "markdown",
   "metadata": {},
   "source": [
    "# Buổi 4: Thuật toán tìm kiếm\n",
    "- Các dạng bài toán tìm kiếm\n",
    "- Các thuật toán tìm kiếm: Linear Search, Binary Search, Tìm kiếm Subset\n",
    "- Phương pháp **Đệ Quy**"
   ]
  },
  {
   "cell_type": "markdown",
   "metadata": {},
   "source": [
    "Bài toán tìm kiếm: \n",
    "- Nhập chữ để tìm kiếm bạn vè trên facebook, tìm đoạn chat trên face, mess,.. tìm phần mềm trên thanh search của Windows taskbar, tìm kiếm trên Google, Youtube,... \n",
    "- Cho danh sách khách hàng, tìm số điện thoại khách hàng dựa vào họ tên; cho doanh số bán hàng, tìm được mặt hàng phổ biến nhất, các khách hàng trung thành.\n",
    "\n",
    "- Tại sao phải học  cách viết thuật toán khi Python và các thư viện như Numpy đã hỗ trợ? sắp xếp ... => Những việc đó đã có thư viện hỗ trợ và hỗ trợ rất tốt."
   ]
  }
 ],
 "metadata": {
  "language_info": {
   "name": "python"
  }
 },
 "nbformat": 4,
 "nbformat_minor": 2
}
