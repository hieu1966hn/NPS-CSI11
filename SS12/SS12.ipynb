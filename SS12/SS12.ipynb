{
 "cells": [
  {
   "cell_type": "markdown",
   "id": "21fb646c",
   "metadata": {},
   "source": [
    "# Buổi 12: Thuật toán tìm đường (BFS)\n",
    "Tương tự như DFS, BFS cũng là thuật toán duyệt qua các đỉnh trong một đồ thị. Với BFS, các đỉnh gần điểm bắt đầu nhất sẽ được duyệt trước, sau đó đến các đỉnh xa hơn."
   ]
  },
  {
   "cell_type": "markdown",
   "id": "8de95c1e",
   "metadata": {},
   "source": [
    "Nhờ đặc điểm này, BFS đảm bảo tìm được đường đi ngắn nhất giữa hai đỉnh bất kì (nếu tồn tại)\n",
    "\n",
    "Mô tả: Thuật toán duyệt BFS: \n",
    "0. Khởi tạo một queue rỗng để chứa các đỉnh chờ duyệt\n",
    "1. Khi Queue vẫn còn phần tử, lấy ra đỉnh tiếp theo trong queue, xét các đỉnh kề với đỉnh vừa lấy.\n",
    "    1.1. Nếu đỉnh đang xét chưa được duyệt => đưa đỉnh đang xét vào queue, đánh dấu đã được duyệt\n",
    "    1.2. Nếu đỉnh đang xét đã được duyệt => bỏ qua"
   ]
  },
  {
   "cell_type": "code",
   "execution_count": 4,
   "id": "1fd0c754",
   "metadata": {},
   "outputs": [],
   "source": [
    "## BFS không duyệt các đỉnh bằng đệ quy như DFS mà sử dụng vòng lặp một queue \n",
    "#để lưu các đỉnh chờ được duyệt.\n",
    "\n",
    "from collections import deque\n",
    "\n",
    "def bfs(graph, start):\n",
    "    \n",
    "    # khởi tạo danh sách đã duyệt\n",
    "    visited = set()# giống list nhưng không quan trọng thứ tự, phần tử không trùng lặp\n",
    "    queue = deque()\n",
    "    \n",
    "    # thêm đỉnh bắt đầu vòa queue + ds đã duyệt\n",
    "    queue.append(start)\n",
    "    visited.add(start)\n",
    "    \n",
    "    ## Vòng lặp\n",
    "    while len(queue) > 0:\n",
    "        vertex = queue.popleft() # 0\n",
    "        print(vertex, end=\"\")\n",
    "        \n",
    "        for next_vert in graph[vertex]:\n",
    "            if next_vert not in visited:\n",
    "                queue.append(next_vert)\n",
    "                visited.add(next_vert)\n",
    "        "
   ]
  },
  {
   "cell_type": "code",
   "execution_count": 5,
   "id": "e9a09d4b",
   "metadata": {},
   "outputs": [
    {
     "name": "stdout",
     "output_type": "stream",
     "text": [
      "01423"
     ]
    }
   ],
   "source": [
    "graph = {\n",
    "    0: [1, 4],\n",
    "    1: [0, 2, 3, 4],\n",
    "    2: [1, 3],\n",
    "    3: [1, 2, 4],\n",
    "    4: [0, 1, 3]\n",
    "}\n",
    "\n",
    "bfs(graph, 0)"
   ]
  },
  {
   "cell_type": "markdown",
   "id": "047d5e3c",
   "metadata": {},
   "source": [
    "Đề bài thực hành: Tìm đường đi ngắn nhất\n",
    "Yêu cầu: Dựa vào đồ thị trên (không có trọng số) và hai đỉnh A, B bất kỳ (A khác B). Hãy tìm đường đi ngắn nhất từ đỉnh A đến B dưới dạng list.  \n",
    "\n",
    "Chú ý: Trả về list rỗng nếu không tồn tại đường đi\n",
    "VD: Đường đi ngắn nhất từ 0 đến 3 là: [0, 1, 3]"
   ]
  },
  {
   "cell_type": "code",
   "execution_count": 7,
   "id": "6041bc61",
   "metadata": {},
   "outputs": [
    {
     "data": {
      "text/plain": [
       "[0, 1, 3]"
      ]
     },
     "execution_count": 7,
     "metadata": {},
     "output_type": "execute_result"
    }
   ],
   "source": [
    "# Solution\n",
    "from collections import deque\n",
    "\n",
    "def bfs_ver2(graph, vertex_a, vertex_b):\n",
    "    visited = set()\n",
    "    queue = deque()\n",
    "    before = {}\n",
    "    \n",
    "    ## Thêm đỉnh bắt đầu\n",
    "    queue.append(vertex_a)\n",
    "    visited.add(vertex_a)\n",
    "    \n",
    "    while len(queue) > 0:\n",
    "        vertex = queue.popleft() # 0\n",
    "        \n",
    "        for next_vertex in graph[vertex]:\n",
    "            if next_vertex not in visited:\n",
    "                before[next_vertex] = vertex\n",
    "                if next_vertex == vertex_b:\n",
    "                    return before\n",
    "                queue.append(next_vertex)\n",
    "                visited.add(next_vertex)\n",
    "                \n",
    "    # B not found\n",
    "    return None\n",
    "\n",
    "def find_path(graph, vertex_a, vertex_b):\n",
    "    before = bfs_ver2(graph, vertex_a, vertex_b)\n",
    "    \n",
    "    # B not found\n",
    "    if before is None:\n",
    "        return []\n",
    "    \n",
    "    path = []\n",
    "    vertex = vertex_b # 3\n",
    "    \n",
    "    while vertex != vertex_a:\n",
    "        path.append(vertex) # [3, 1,  \n",
    "        vertex = before[vertex]\n",
    "    path.append(vertex_a) #[3, 1, 0]\n",
    "    \n",
    "    # Đảo ngược danh sách\n",
    "    path.reverse()\n",
    "    return path\n",
    "\n",
    "find_path(graph, 0, 3)\n"
   ]
  },
  {
   "cell_type": "code",
   "execution_count": null,
   "id": "69d38354",
   "metadata": {},
   "outputs": [],
   "source": []
  }
 ],
 "metadata": {
  "kernelspec": {
   "display_name": "base",
   "language": "python",
   "name": "python3"
  },
  "language_info": {
   "codemirror_mode": {
    "name": "ipython",
    "version": 3
   },
   "file_extension": ".py",
   "mimetype": "text/x-python",
   "name": "python",
   "nbconvert_exporter": "python",
   "pygments_lexer": "ipython3",
   "version": "3.12.7"
  }
 },
 "nbformat": 4,
 "nbformat_minor": 5
}
