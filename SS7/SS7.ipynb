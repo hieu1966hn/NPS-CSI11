{
 "cells": [
  {
   "cell_type": "markdown",
   "metadata": {},
   "source": [
    "# Buổi 7: Thuật toán sắp sếp (phần 3)\n",
    "- Tìm hiểu về thuật toán \"Counting Sort\""
   ]
  },
  {
   "cell_type": "code",
   "execution_count": 1,
   "metadata": {},
   "outputs": [],
   "source": [
    "import matplotlib.pyplot as plt\n",
    "\n",
    "def show_list(arr, title = \"\"):\n",
    "    fig, ax = plt.subplots(figsize=(20, 4))\n",
    "    ax.bar(range(len(arr)), arr)\n",
    "    ax.set_title(title)\n",
    "    ax.set_xlabel('index')\n",
    "    ax.set_ylabel('value')\n",
    "    ax.set_xticks(range(len(arr)))\n",
    "    plt.show()\n"
   ]
  },
  {
   "cell_type": "markdown",
   "metadata": {},
   "source": [
    "Bài toán: Counting sort giải quyết bài toán sắp xếp dãy có ít giá trị riêng biệt\n",
    "\n",
    "Cách tiếp cận: \n",
    "1. Duyệt qua dãy để đếm số lần xuất hiện của từng giá trị.\n",
    "2. Sử dụng các giá trị đếm được để đưa các phần tử vào dãy mới theo thứ tự đã sắp xếp.\n",
    "\n",
    "VD: Ta cần sắp xếp dãy [1,4,1,2,7,5,2] chứa các giá trị từ 0 đến 7.\n",
    "Bước 1: Tạo mảng \"count\" chứa số lần xuất hiện của mỗi phần tử:\n",
    "\n",
    "        i: 0    1   2   3   4   5   6   7\n",
    " Count[i]: 0    2   2   0   1   1   0   1\n",
    "\n",
    "\n",
    "Bước 2: Duyệt \"count\" theo thứ tự từ đầu đến cuối để đưa các giá trị vào dãy mới\n",
    "sorted_arr = []\n",
    "i = 0;  count[0] = 0 => sorted_arr = []\n",
    "i = 1;  count[1] = 2 => sorted_arr = [1, 1]\n",
    "i = 2;  count[2] = 2 => sorted_arr = [1, 1, 2, 2]\n",
    "...\n",
    "i = 7;  count[7] = 1 => sorted_arr = [1, 1, 2, 2, 4, 5, 7]\n",
    "\n"
   ]
  },
  {
   "cell_type": "code",
   "execution_count": 5,
   "metadata": {},
   "outputs": [],
   "source": [
    "def counting_sort(arr):\n",
    "    if len(arr) <= 0:\n",
    "        return \n",
    "\n",
    "    ## lấy ra giá trị lớn nhất của arr\n",
    "    max_val = max(arr)\n",
    "    \n",
    "    ## Tạo ra 1 list mảng gồm max(arr) + 1 số 0\n",
    "    count = [0] * (max_val + 1)\n",
    "    \n",
    "    for el in arr: #[1, 2, 4, 0, 70]\n",
    "        count[el] += 1\n",
    "    \n",
    "    \n",
    "    ## Từ count => cập nhật vào arr\n",
    "    index = 0\n",
    "    for i in range(max_val + 1):\n",
    "        for j in range(count[i]):\n",
    "            arr[index] = i\n",
    "            index += 1"
   ]
  },
  {
   "cell_type": "code",
   "execution_count": 6,
   "metadata": {},
   "outputs": [
    {
     "name": "stdout",
     "output_type": "stream",
     "text": [
      "Before sorting: [5, 7, 6, 5, 9, 6, 8, 4, 1, 0]\n",
      "After sorting: [0, 1, 4, 5, 5, 6, 6, 7, 8, 9]\n"
     ]
    },
    {
     "data": {
      "image/png": "[encoded data removed]",
      "text/plain": [
       "<Figure size 2000x400 with 1 Axes>"
      ]
     },
     "metadata": {},
     "output_type": "display_data"
    }
   ],
   "source": [
    "number_list = [5,7,6,5,9,6,8,4,1,0]\n",
    "\n",
    "number_list_2 = number_list[:]\n",
    "\n",
    "# gọi hàm sắp xếp đếm\n",
    "counting_sort(number_list_2)\n",
    "\n",
    "print(\"Before sorting: {}\".format(number_list))\n",
    "print(\"After sorting: {}\".format(number_list_2))\n",
    "show_list(number_list_2, title=\"number_list_2\")\n",
    "\n"
   ]
  },
  {
   "cell_type": "markdown",
   "metadata": {},
   "source": [
    "## Thực hành \n",
    "### Bài 1: Counting Sort trên số âm\n",
    "Yêu cầu: Cho một dãy gồm n số nguyên, mỗi số ó giá trị trong khoảng [-99, 99]. Hãy chỉnh sửa thuật toán Counting Sort để sắp xếp dãy trên theo thứ tự tăng dần.\n",
    "\n",
    "Gợi ý: Ta có thể xem khoảng giá trị [-99, 99] tương tự như khoảng từ [0; 198] bằng cách cộng 99 vào mỗi phần tử."
   ]
  },
  {
   "cell_type": "code",
   "execution_count": 7,
   "metadata": {},
   "outputs": [],
   "source": [
    "number_list_3 = [5, 9, -1, 12, -30, 35, -75, 10, 15, -20, 4, 0, -20, 0,  -20, -3, 6, -14]"
   ]
  },
  {
   "cell_type": "code",
   "execution_count": null,
   "metadata": {},
   "outputs": [],
   "source": [
    "def counting_sort_negative(arr):\n",
    "    "
   ]
  }
 ],
 "metadata": {
  "kernelspec": {
   "display_name": "base",
   "language": "python",
   "name": "python3"
  },
  "language_info": {
   "codemirror_mode": {
    "name": "ipython",
    "version": 3
   },
   "file_extension": ".py",
   "mimetype": "text/x-python",
   "name": "python",
   "nbconvert_exporter": "python",
   "pygments_lexer": "ipython3",
   "version": "3.12.7"
  }
 },
 "nbformat": 4,
 "nbformat_minor": 2
}
