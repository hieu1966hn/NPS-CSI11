{
 "cells": [
  {
   "cell_type": "markdown",
   "metadata": {},
   "source": [
    "# Lesson 9: CTDL Stack & Queue\n",
    "- Tìm hiểu về 2 CTDL Stack & Queue và ứng dụng"
   ]
  },
  {
   "cell_type": "markdown",
   "metadata": {},
   "source": [
    "## Stack (Ngắn xếp)\n",
    "**Stack** là một cấu trúc dữ liệu tuần tự. Dữ liệu được lưu trong stack với tính chất *vào sau ra trước*\n",
    "\n",
    "Stack tương tự như một *list* với hai method quan trọng: \n",
    "- Thêm một phần tử vào cuối dãy\n",
    "- Lấy một phần tử từ cuối dãy\n",
    "\n",
    "Ta có thể tưởng tượng stack như một chồng sách: ta có thể đặt chồng lên một quyển sách hoặc lấy ra một quyển từ trên cùng\n"
   ]
  },
  {
   "cell_type": "markdown",
   "metadata": {},
   "source": [
    "### Ứng dụng\n",
    "- Lưu các trang đã xem và di chuyển về trang trước trên trình duyệt\n",
    "- Chức năng *undo* trên các phần mềm: word, VS code, Photoshop\n",
    "- Tính toán biểu thức nhiều toán tử\n",
    "- Lưu trữ các lệnh gọi đệ quy"
   ]
  },
  {
   "cell_type": "markdown",
   "metadata": {},
   "source": [
    "### Code\n",
    "Stack có thể được hiện thực bằng list. Tuy nhiên, Python hỗ trợ class *deque* có độ hiệu quả cao hơn, với các phương thức thêm và lấy phần tử."
   ]
  },
  {
   "cell_type": "code",
   "execution_count": 4,
   "metadata": {},
   "outputs": [
    {
     "name": "stdout",
     "output_type": "stream",
     "text": [
      "Khởi tạo stack: deque(['a', 'b', 'c'])\n",
      "Thêm phần tử vào stack: deque(['a', 'b', 'c', 'd'])\n",
      "Xóa phần tử khỏi stack: deque(['a', 'b', 'c'])\n",
      "Lấy ra phần tử cuối cùng của stack: c\n"
     ]
    }
   ],
   "source": [
    "from collections import deque\n",
    "\n",
    "### Khởi tạo một stack\n",
    "stack = deque(['a', 'b', 'c'])\n",
    "print('Khởi tạo stack: {}'.format(stack))\n",
    "\n",
    "\n",
    "## Thêm một phần tử vào stack (cuối)\n",
    "stack.append('d')\n",
    "print('Thêm phần tử vào stack: {}'.format(stack))\n",
    "\n",
    "### Xóa phần tử khỏi stack (cuối)\n",
    "stack.pop()\n",
    "print('Xóa phần tử khỏi stack: {}'.format(stack))\n",
    "\n",
    "\n",
    "### Lấy ra phần tử cuối cùng của dãy\n",
    "print('Lấy ra phần tử cuối cùng của stack: {}'.format(stack[-1]))\n"
   ]
  },
  {
   "cell_type": "markdown",
   "metadata": {},
   "source": [
    "## Queue (Hàng đợi)\n",
    "- **Queue** lưu trữ dữ liệu với tính chất *vào trước ra trước*\n",
    "Phương thức đi kèm\n",
    "+ Thêm một phần tử vào cuối dãy.\n",
    "+ Lấy một phần tử tử đầu dãy\n",
    "\n",
    "VD: Xếp hàng thanh toán"
   ]
  },
  {
   "cell_type": "markdown",
   "metadata": {},
   "source": [
    "### Ứng dụng\n",
    "- Xử lý order trong quán ăn, trà sữa, ...\n",
    "- Xử lý yêu cầu đặt vé online\n",
    "- Sắp xếp người chơi vào phòng trong game online.."
   ]
  },
  {
   "cell_type": "markdown",
   "metadata": {},
   "source": [
    "Queue cũng có thể được hiện thực bằng một *list*. Tuy nhiên, class *deque* cũng hỗ trợ phương thức thêm và lấy phần tử trong queue."
   ]
  },
  {
   "cell_type": "code",
   "execution_count": 5,
   "metadata": {},
   "outputs": [
    {
     "name": "stdout",
     "output_type": "stream",
     "text": [
      "Khởi tạo queue: deque(['a', 'b', 'c'])\n",
      "Thêm phần tử vào queue: deque(['a', 'b', 'c', 'd'])\n",
      "Xóa phần tử khỏi queue: deque(['b', 'c', 'd'])\n",
      "Lấy ra giá trị đầu tiên của queue: b\n"
     ]
    }
   ],
   "source": [
    "from collections import deque\n",
    "\n",
    "queue = deque(['a', 'b', 'c'])\n",
    "print('Khởi tạo queue: {}'.format(queue))\n",
    "\n",
    "\n",
    "## Thêm một phần tử vào queue (same as stack) \n",
    "queue.append('d')\n",
    "print('Thêm phần tử vào queue: {}'.format(queue))\n",
    "\n",
    "### Xóa một phần tử khỏi queue (đầu)\n",
    "queue.popleft()\n",
    "print('Xóa phần tử khỏi queue: {}'.format(queue))\n",
    "\n",
    "\n",
    "### Lấy ra giá trị đầu tiên của queue\n",
    "print(\"Lấy ra giá trị đầu tiên của queue: {}\".format(queue[0]))"
   ]
  },
  {
   "cell_type": "markdown",
   "metadata": {},
   "source": [
    "## 3. Deque (Hàng đợi hai đầu)\n",
    "Class deque được dùng để hiện thực *stack* và *queue* trên cũng là một cấu trúc dữ liệu có tên là *Deque*: Double-ended Queue. Cấu trúc dữ liệu này hỗ trợ thêm và xóa phần tử ở cả hai đầu của danh sách."
   ]
  },
  {
   "cell_type": "code",
   "execution_count": 9,
   "metadata": {},
   "outputs": [
    {
     "name": "stdout",
     "output_type": "stream",
     "text": [
      "Khởi tạo deque: deque(['a', 'b', 'c'])\n",
      "Thêm phần tử vào bên phải: deque(['a', 'b', 'c', 'd'])\n",
      "Thêm phần tử vào bên trái: deque(['z', 'a', 'b', 'c', 'd'])\n",
      "Xóa phần tử từ bên phải: deque(['z', 'a', 'b', 'c'])\n",
      "Xóa phần tử từ bên trái: deque(['a', 'b', 'c'])\n",
      "Lấy ra giá trị ngoài cùng bên phải: c\n",
      "Lấy ra giá trị ngoài cùng bên trái: a\n"
     ]
    }
   ],
   "source": [
    "from collections import deque\n",
    "\n",
    "## Khởi tạo hàng đợi 2 đầu\n",
    "deq = deque(['a', 'b', 'c'])\n",
    "print('Khởi tạo deque: {}'.format(deq))\n",
    "\n",
    "\n",
    "## Thêm một phần tử vào deque \n",
    "deq.append('d')\n",
    "print('Thêm phần tử vào bên phải: {}'.format(deq))\n",
    "deq.appendleft('z')\n",
    "print('Thêm phần tử vào bên trái: {}'.format(deq))\n",
    "\n",
    "### Xóa một phần tử khỏi deque\n",
    "deq.pop()\n",
    "print('Xóa phần tử từ bên phải: {}'.format(deq))\n",
    "deq.popleft()\n",
    "print('Xóa phần tử từ bên trái: {}'.format(deq))\n",
    "\n",
    "\n",
    "### Lấy ra giá trị đầu tiên và cuối cùng của deq\n",
    "print(\"Lấy ra giá trị ngoài cùng bên phải: {}\".format(deq[-1]))\n",
    "print(\"Lấy ra giá trị ngoài cùng bên trái: {}\".format(deq[0]))"
   ]
  },
  {
   "cell_type": "markdown",
   "metadata": {},
   "source": [
    "## 4.1 Dãy ngoặc đúng\n",
    "\n",
    "Ta định nghĩa một dãy ngoặc hợp lệ là một dãy ngoặc sao cho mỗi ngoặc mở đều có ngoặc đóng tương ứng và ngược lại. Ví dụ: \n",
    "\n",
    "input: ()(()) là một dãy ngoặc đúng\n",
    "input2: (()() không phải là một dãy ngoặc đúng, do ngoặc mở đầu tiên không có ngoặc đóng tương ứng.\n",
    "\n",
    "Yêu cầu: Cho một chuỗi ký tự có độ dài > 0 => chỉ bao gồm các dấu ngoặc mở và đóng, kiểm tra dãy ngoặc đã cho có hợp lệ hay không?"
   ]
  },
  {
   "cell_type": "markdown",
   "metadata": {},
   "source": [
    "## 4.2  Biến đổi Queue - Xoay vòng danh sách\n",
    "\n",
    "Mô tả bài toán\n",
    "Cho một danh sách queue = [1, 2, 3, 4, 5], thực hiện xoay vòng k bước sang trái. Ví dụ:\n",
    "\n",
    "- queue = [1, 2, 3, 4, 5]\n",
    "-  Sau 2 bước xoay vòng trái → [3, 4, 5, 1, 2]\n",
    "Yêu cầu: Viết chương trình thực hiện xoay vòng danh sách sử dụng Queue."
   ]
  }
 ],
 "metadata": {
  "kernelspec": {
   "display_name": "base",
   "language": "python",
   "name": "python3"
  },
  "language_info": {
   "codemirror_mode": {
    "name": "ipython",
    "version": 3
   },
   "file_extension": ".py",
   "mimetype": "text/x-python",
   "name": "python",
   "nbconvert_exporter": "python",
   "pygments_lexer": "ipython3",
   "version": "3.12.7"
  }
 },
 "nbformat": 4,
 "nbformat_minor": 2
}
